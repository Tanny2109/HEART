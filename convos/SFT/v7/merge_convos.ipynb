{
 "cells": [
  {
   "cell_type": "code",
   "execution_count": 2,
   "id": "40143f3d",
   "metadata": {},
   "outputs": [],
   "source": [
    "import pandas as pd\n",
    "import os"
   ]
  },
  {
   "cell_type": "code",
   "execution_count": 2,
   "id": "105a189d",
   "metadata": {},
   "outputs": [],
   "source": [
    "base_path = \"/home/tsutar3/HEART/convos/SFT/v7/without_memory\"\n",
    "# merge all csv files in the base_path\n",
    "df = pd.concat([pd.read_csv(os.path.join(base_path, file)) for file in os.listdir(base_path) if file.endswith(\".csv\") and \"COT\" in file])\n",
    "df.to_csv(os.path.join(base_path, \"llamaToxic100_convo_without_memory_COT.csv\"), index=False)"
   ]
  },
  {
   "cell_type": "code",
   "execution_count": 3,
   "id": "11251003",
   "metadata": {},
   "outputs": [
    {
     "name": "stdout",
     "output_type": "stream",
     "text": [
      "2000\n"
     ]
    }
   ],
   "source": [
    "df = pd.read_csv(\"/home/tsutar3/HEART/convos/SFT/v6/without_memory/llamaToxic100_convo_without_memory.csv\")\n",
    "print(len(df))"
   ]
  },
  {
   "cell_type": "code",
   "execution_count": 4,
   "id": "ea619f38",
   "metadata": {},
   "outputs": [],
   "source": [
    "df = pd.concat([pd.read_csv(os.path.join(base_path, file)) for file in os.listdir(base_path) if file.endswith(\".csv\") and \"ReACT\" in file])\n",
    "df.to_csv(os.path.join(base_path, \"llamaToxic100_convo_without_memory_ReACT.csv\"), index=False)"
   ]
  },
  {
   "cell_type": "code",
   "execution_count": 5,
   "id": "8f0264f2",
   "metadata": {},
   "outputs": [],
   "source": [
    "base_path = \"/home/tsutar3/HEART/convos/SFT/v7/with_memory\"\n",
    "# merge all csv files in the base_path\n",
    "df = pd.concat([pd.read_csv(os.path.join(base_path, file)) for file in os.listdir(base_path) if file.endswith(\".csv\") and \"COT\" in file])\n",
    "df.to_csv(os.path.join(base_path, \"llamaToxic100_convo_with_memory_COT.csv\"), index=False)"
   ]
  },
  {
   "cell_type": "code",
   "execution_count": 6,
   "id": "7ece3096",
   "metadata": {},
   "outputs": [],
   "source": [
    "base_path = \"/home/tsutar3/HEART/convos/SFT/v7/with_memory\"\n",
    "# merge all csv files in the base_path\n",
    "df = pd.concat([pd.read_csv(os.path.join(base_path, file)) for file in os.listdir(base_path) if file.endswith(\".csv\") and \"ReACT\" in file])\n",
    "df.to_csv(os.path.join(base_path, \"llamaToxic100_convo_with_memory_ReACT.csv\"), index=False)"
   ]
  },
  {
   "cell_type": "code",
   "execution_count": 4,
   "id": "ca20add7",
   "metadata": {},
   "outputs": [],
   "source": [
    "base_path = \"/home/tsutar3/HEART/convos/SFT/v7/sublimal_learning/\"\n",
    "# merge all csv files in the base_path\n",
    "df = pd.concat([pd.read_csv(os.path.join(base_path, file)) for file in os.listdir(base_path) if file.endswith(\".csv\")])\n",
    "df.to_csv(os.path.join(base_path, \"llamaToxic100_convo_without_memory_sublimal_learning.csv\"), index=False)"
   ]
  }
 ],
 "metadata": {
  "kernelspec": {
   "display_name": "swl",
   "language": "python",
   "name": "python3"
  },
  "language_info": {
   "codemirror_mode": {
    "name": "ipython",
    "version": 3
   },
   "file_extension": ".py",
   "mimetype": "text/x-python",
   "name": "python",
   "nbconvert_exporter": "python",
   "pygments_lexer": "ipython3",
   "version": "3.12.3"
  }
 },
 "nbformat": 4,
 "nbformat_minor": 5
}
