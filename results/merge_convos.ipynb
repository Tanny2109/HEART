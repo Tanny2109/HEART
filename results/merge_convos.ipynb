{
 "cells": [
  {
   "cell_type": "code",
   "execution_count": 6,
   "id": "40143f3d",
   "metadata": {},
   "outputs": [],
   "source": [
    "import pandas as pd\n",
    "import os"
   ]
  },
  {
   "cell_type": "code",
   "execution_count": 12,
   "id": "105a189d",
   "metadata": {},
   "outputs": [
    {
     "name": "stdout",
     "output_type": "stream",
     "text": [
      "safety_label\n",
      "safe      2027\n",
      "unsafe     139\n",
      "Name: safety_explanation, dtype: int64\n"
     ]
    }
   ],
   "source": [
    "base_path = \"/home/tsutar3/HEART/results/without_memory\"\n",
    "# merge all csv files in the base_path\n",
    "df = pd.concat([pd.read_csv(os.path.join(base_path, file)) for file in os.listdir(base_path) if file.endswith(\".csv\") and \"rank\" in file])\n",
    "df.to_csv(os.path.join(base_path, \"llamaguard_convo_without_memory.csv\"), index=False) \n",
    "\n",
    "print(df[\"safety_explanation\"].groupby(df[\"safety_label\"]).count())"
   ]
  },
  {
   "cell_type": "code",
   "execution_count": null,
   "id": "f606e16b",
   "metadata": {},
   "outputs": [],
   "source": []
  }
 ],
 "metadata": {
  "kernelspec": {
   "display_name": "swl",
   "language": "python",
   "name": "python3"
  },
  "language_info": {
   "codemirror_mode": {
    "name": "ipython",
    "version": 3
   },
   "file_extension": ".py",
   "mimetype": "text/x-python",
   "name": "python",
   "nbconvert_exporter": "python",
   "pygments_lexer": "ipython3",
   "version": "3.12.3"
  }
 },
 "nbformat": 4,
 "nbformat_minor": 5
}
